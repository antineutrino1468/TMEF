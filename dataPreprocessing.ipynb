{
 "cells": [
  {
   "cell_type": "code",
   "execution_count": null,
   "metadata": {},
   "outputs": [],
   "source": [
    "import numpy as np\n",
    "import pandas as pd\n",
    "import matplotlib.pyplot as plt\n",
    "import seaborn as sns\n",
    "from sklearn.preprocessing import MinMaxScaler\n",
    "import re\n",
    "import nltk\n",
    "import os\n",
    "from sklearn.feature_extraction.text import CountVectorizer\n",
    "from gensim.models import Word2Vec\n",
    "from sklearn.feature_extraction.text import TfidfVectorizer\n",
    "import scipy\n",
    "from sklearn.model_selection import train_test_split\n",
    "from sklearn.preprocessing import StandardScaler\n",
    "from sklearn.linear_model import Lasso, Ridge\n",
    "from sklearn.metrics import mean_squared_error\n",
    "import pickle\n",
    "from sklearn.dummy import DummyRegressor\n",
    "from sklearn.linear_model import LassoCV\n",
    "from wordcloud import WordCloud\n",
    "from myFunction import *\n",
    "\n",
    "plt.style.use('ggplot')"
   ]
  },
  {
   "cell_type": "code",
   "execution_count": null,
   "metadata": {},
   "outputs": [],
   "source": [
    "nltk.download('punkt')\n",
    "nltk.download('stopwords')"
   ]
  },
  {
   "cell_type": "code",
   "execution_count": 8,
   "metadata": {},
   "outputs": [
    {
     "data": {
      "application/vnd.microsoft.datawrangler.viewer.v0+json": {
       "columns": [
        {
         "name": "index",
         "rawType": "int64",
         "type": "integer"
        },
        {
         "name": "Game Name",
         "rawType": "object",
         "type": "string"
        },
        {
         "name": "Review",
         "rawType": "object",
         "type": "string"
        },
        {
         "name": "Rating",
         "rawType": "int64",
         "type": "integer"
        }
       ],
       "conversionMethod": "pd.DataFrame",
       "ref": "681b3688-9b72-4d10-857f-91cd075b2d13",
       "rows": [
        [
         "0",
         "Farming Simulator 15",
         "Did not make it to the stage in the game where you really are making progress but accurate and engaging enough.7/10",
         "70"
        ],
        [
         "1",
         "Farming Simulator 15",
         "got lost in the forest with a chainsaw and pretended to be a serial killer",
         "80"
        ],
        [
         "2",
         "Farming Simulator 15",
         "Screen went grey and nothing happened whenever I tried to play it.",
         "10"
        ],
        [
         "3",
         "Farming Simulator 15",
         "Farming Sim 15 is not a bad game, I just hate it. Sure it does what it sets to do good, you can farm, plow, sow, and harvest; grow animals, deforest the whole map (Which is my favorite), and sell the fruits of said labor. Yet its just soo jankey and limited compared to later games. Games that while I have played for an hour or two at a freinds house, I can still say do the farming simulator genre much more then this. A obvious statment yes; that newer things will be better then older things due to inovation. But I don't think this game needs that inovation to be good. It just needs to not be janky and a bore with the same repetative items over and over again. Like to be fair, if the forestry mechines didn't constantly glitch out like a rat on crack then I would have played way more of this then I ended up, and I might have even made some of the acheivments, but no. On the bright side however, I have yet to have as much fun in a multiplayer game then I had playing this with a freind a few years back while just messing around.",
         "50"
        ],
        [
         "4",
         "Farming Simulator 15",
         "I single out this Farming Simulator game for the reason that it was only in this version that the \"job of the woodcutter\" was added, which I liked the most and that was the only thing I did.",
         "80"
        ]
       ],
       "shape": {
        "columns": 3,
        "rows": 5
       }
      },
      "text/html": [
       "<div>\n",
       "<style scoped>\n",
       "    .dataframe tbody tr th:only-of-type {\n",
       "        vertical-align: middle;\n",
       "    }\n",
       "\n",
       "    .dataframe tbody tr th {\n",
       "        vertical-align: top;\n",
       "    }\n",
       "\n",
       "    .dataframe thead th {\n",
       "        text-align: right;\n",
       "    }\n",
       "</style>\n",
       "<table border=\"1\" class=\"dataframe\">\n",
       "  <thead>\n",
       "    <tr style=\"text-align: right;\">\n",
       "      <th></th>\n",
       "      <th>Game Name</th>\n",
       "      <th>Review</th>\n",
       "      <th>Rating</th>\n",
       "    </tr>\n",
       "  </thead>\n",
       "  <tbody>\n",
       "    <tr>\n",
       "      <th>0</th>\n",
       "      <td>Farming Simulator 15</td>\n",
       "      <td>Did not make it to the stage in the game where...</td>\n",
       "      <td>70</td>\n",
       "    </tr>\n",
       "    <tr>\n",
       "      <th>1</th>\n",
       "      <td>Farming Simulator 15</td>\n",
       "      <td>got lost in the forest with a chainsaw and pre...</td>\n",
       "      <td>80</td>\n",
       "    </tr>\n",
       "    <tr>\n",
       "      <th>2</th>\n",
       "      <td>Farming Simulator 15</td>\n",
       "      <td>Screen went grey and nothing happened whenever...</td>\n",
       "      <td>10</td>\n",
       "    </tr>\n",
       "    <tr>\n",
       "      <th>3</th>\n",
       "      <td>Farming Simulator 15</td>\n",
       "      <td>Farming Sim 15 is not a bad game, I just hate ...</td>\n",
       "      <td>50</td>\n",
       "    </tr>\n",
       "    <tr>\n",
       "      <th>4</th>\n",
       "      <td>Farming Simulator 15</td>\n",
       "      <td>I single out this Farming Simulator game for t...</td>\n",
       "      <td>80</td>\n",
       "    </tr>\n",
       "  </tbody>\n",
       "</table>\n",
       "</div>"
      ],
      "text/plain": [
       "              Game Name                                             Review  \\\n",
       "0  Farming Simulator 15  Did not make it to the stage in the game where...   \n",
       "1  Farming Simulator 15  got lost in the forest with a chainsaw and pre...   \n",
       "2  Farming Simulator 15  Screen went grey and nothing happened whenever...   \n",
       "3  Farming Simulator 15  Farming Sim 15 is not a bad game, I just hate ...   \n",
       "4  Farming Simulator 15  I single out this Farming Simulator game for t...   \n",
       "\n",
       "   Rating  \n",
       "0      70  \n",
       "1      80  \n",
       "2      10  \n",
       "3      50  \n",
       "4      80  "
      ]
     },
     "execution_count": 8,
     "metadata": {},
     "output_type": "execute_result"
    }
   ],
   "source": [
    "# Data loading\n",
    "media_df = pd.read_csv(\"data/myMediaReviews.csv\")\n",
    "user_df = pd.read_csv(\"data/myUserReviews.csv\")\n",
    "media_df.dropna(subset=[\"Snippet\"], inplace=True)\n",
    "user_df.dropna(subset=[\"Review\"], inplace=True)\n",
    "user_df.drop(columns=[\"Page\"], inplace=True)\n",
    "media_df.drop(columns=[\"OpenCritic URL\",\"Description\",\"Release Date\",\"Review Title\",\"Published Date\",\"Review URL\",\"Language\"], inplace=True)\n",
    "user_df.head()"
   ]
  },
  {
   "cell_type": "code",
   "execution_count": 9,
   "metadata": {},
   "outputs": [
    {
     "name": "stdout",
     "output_type": "stream",
     "text": [
      "Common games:  3732\n",
      "Media games:  3732\n"
     ]
    },
    {
     "name": "stderr",
     "output_type": "stream",
     "text": [
      "C:\\Users\\Galaxia\\AppData\\Local\\Temp\\ipykernel_46800\\351675782.py:7: SettingWithCopyWarning: \n",
      "A value is trying to be set on a copy of a slice from a DataFrame\n",
      "\n",
      "See the caveats in the documentation: https://pandas.pydata.org/pandas-docs/stable/user_guide/indexing.html#returning-a-view-versus-a-copy\n",
      "  media_df_filtered.drop(columns=[\"Tier\"], inplace=True)\n"
     ]
    }
   ],
   "source": [
    "# Data Cleaning -select common games\n",
    "media_games = media_df[\"Game\"].unique()\n",
    "user_games = user_df[\"Game Name\"].unique()\n",
    "common_games = set(media_games) & set(user_games)\n",
    "media_df_filtered = media_df[media_df[\"Game\"].isin(user_games)]\n",
    "media_df_filtered[\"Game\"].nunique()\n",
    "media_df_filtered.drop(columns=[\"Tier\"], inplace=True)\n",
    "print(\"Common games: \", len(common_games))\n",
    "print(\"Media games: \", media_df_filtered[\"Game\"].nunique())"
   ]
  },
  {
   "cell_type": "code",
   "execution_count": 10,
   "metadata": {},
   "outputs": [
    {
     "data": {
      "application/vnd.microsoft.datawrangler.viewer.v0+json": {
       "columns": [
        {
         "name": "index",
         "rawType": "int64",
         "type": "integer"
        },
        {
         "name": "Game",
         "rawType": "object",
         "type": "string"
        },
        {
         "name": "Genres",
         "rawType": "object",
         "type": "string"
        },
        {
         "name": "Platforms",
         "rawType": "object",
         "type": "string"
        },
        {
         "name": "Reviewer (Outlet)",
         "rawType": "object",
         "type": "string"
        },
        {
         "name": "Snippet",
         "rawType": "object",
         "type": "string"
        },
        {
         "name": "Score",
         "rawType": "float64",
         "type": "float"
        },
        {
         "name": "Median Score",
         "rawType": "float64",
         "type": "float"
        },
        {
         "name": "Top Critic Score",
         "rawType": "float64",
         "type": "float"
        },
        {
         "name": "Percent Recommended",
         "rawType": "float64",
         "type": "float"
        }
       ],
       "conversionMethod": "pd.DataFrame",
       "ref": "544e585e-f711-457c-8b5f-3fe3e420485c",
       "rows": [
        [
         "0",
         "Farming Simulator 15",
         "Simulation, Vehicle Combat",
         "PlayStation 4, Xbox One, PC, Xbox Series X/S, PlayStation 5",
         "Gaming Nexus",
         "Farming Simulator 15 is a great addition to the series that includes a massively improved graphics and physics engine in addition to redesigned user interface and woodcutting gameplay. Players new to the series and farming will require patience and trail and error in learning the various gameplay mechanics. Farming Simulator 15 earns a strong recommendation for both series fans and farming enthusiasts.",
         "85.0",
         "60.0",
         "57.142857142857146",
         "10.344827586206897"
        ],
        [
         "1",
         "Farming Simulator 15",
         "Simulation, Vehicle Combat",
         "PlayStation 4, Xbox One, PC, Xbox Series X/S, PlayStation 5",
         "Game Debate",
         "I really like Farming Simulator 2015. It's not without fault and there are clearly areas for improvement, but it is great, involved fun and you will absolutely get your money's worth. And at the rate they're improving this series, Farming Simulator 2021 will be finest game known to farmkind.",
         "85.0",
         "60.0",
         "57.142857142857146",
         "10.344827586206897"
        ],
        [
         "2",
         "Farming Simulator 15",
         "Simulation, Vehicle Combat",
         "PlayStation 4, Xbox One, PC, Xbox Series X/S, PlayStation 5",
         "ZTGD",
         "Farming Simulator is king at what it does, so go farm to your heart's content. There is even multiplayer farming with your friends! Win, win!",
         "80.0",
         "60.0",
         "57.142857142857146",
         "10.344827586206897"
        ],
        [
         "3",
         "Farming Simulator 15",
         "Simulation, Vehicle Combat",
         "PlayStation 4, Xbox One, PC, Xbox Series X/S, PlayStation 5",
         "PlayStation LifeStyle",
         "If you know you'd like a farming simulator game that tries hard to recreate perfectly a small portion of reality, Farming Simulator is just what you need. If you are looking for an all-encompassing simulation game that basically recreates life on a farm, maybe wait for Sims 7: Farming Life. If you're in between, try to score this game when a deal arises, as you may get bored like I did. It's worth trying it out, and I'm glad I own it so I can go back to it when the farming mood arises, but my attention wavered far more quickly than I would have preferred. ",
         "70.0",
         "60.0",
         "57.142857142857146",
         "10.344827586206897"
        ],
        [
         "4",
         "Farming Simulator 15",
         "Simulation, Vehicle Combat",
         "PlayStation 4, Xbox One, PC, Xbox Series X/S, PlayStation 5",
         "Digital Chumps",
         "I'm not convinced that this game does not have an infinite shelf life. I don't think I will ever run out of things to do on my virtual farm, which is a bonus of sorts and adds to game value. There is something inherently relaxing about hearing cows moo in the distance while I drive a tractor to my cornfield at sunrise. And, when I feel lazy I can hire someone to drive my tractor for me. Back and forth. Up and down. Back and forth. It's mesmerizing and boring all at the same time; and so is Farming Simulator 2015.",
         "70.0",
         "60.0",
         "57.142857142857146",
         "10.344827586206897"
        ]
       ],
       "shape": {
        "columns": 9,
        "rows": 5
       }
      },
      "text/html": [
       "<div>\n",
       "<style scoped>\n",
       "    .dataframe tbody tr th:only-of-type {\n",
       "        vertical-align: middle;\n",
       "    }\n",
       "\n",
       "    .dataframe tbody tr th {\n",
       "        vertical-align: top;\n",
       "    }\n",
       "\n",
       "    .dataframe thead th {\n",
       "        text-align: right;\n",
       "    }\n",
       "</style>\n",
       "<table border=\"1\" class=\"dataframe\">\n",
       "  <thead>\n",
       "    <tr style=\"text-align: right;\">\n",
       "      <th></th>\n",
       "      <th>Game</th>\n",
       "      <th>Genres</th>\n",
       "      <th>Platforms</th>\n",
       "      <th>Reviewer (Outlet)</th>\n",
       "      <th>Snippet</th>\n",
       "      <th>Score</th>\n",
       "      <th>Median Score</th>\n",
       "      <th>Top Critic Score</th>\n",
       "      <th>Percent Recommended</th>\n",
       "    </tr>\n",
       "  </thead>\n",
       "  <tbody>\n",
       "    <tr>\n",
       "      <th>0</th>\n",
       "      <td>Farming Simulator 15</td>\n",
       "      <td>Simulation, Vehicle Combat</td>\n",
       "      <td>PlayStation 4, Xbox One, PC, Xbox Series X/S, ...</td>\n",
       "      <td>Gaming Nexus</td>\n",
       "      <td>Farming Simulator 15 is a great addition to th...</td>\n",
       "      <td>85.0</td>\n",
       "      <td>60.0</td>\n",
       "      <td>57.142857</td>\n",
       "      <td>10.344828</td>\n",
       "    </tr>\n",
       "    <tr>\n",
       "      <th>1</th>\n",
       "      <td>Farming Simulator 15</td>\n",
       "      <td>Simulation, Vehicle Combat</td>\n",
       "      <td>PlayStation 4, Xbox One, PC, Xbox Series X/S, ...</td>\n",
       "      <td>Game Debate</td>\n",
       "      <td>I really like Farming Simulator 2015. It's not...</td>\n",
       "      <td>85.0</td>\n",
       "      <td>60.0</td>\n",
       "      <td>57.142857</td>\n",
       "      <td>10.344828</td>\n",
       "    </tr>\n",
       "    <tr>\n",
       "      <th>2</th>\n",
       "      <td>Farming Simulator 15</td>\n",
       "      <td>Simulation, Vehicle Combat</td>\n",
       "      <td>PlayStation 4, Xbox One, PC, Xbox Series X/S, ...</td>\n",
       "      <td>ZTGD</td>\n",
       "      <td>Farming Simulator is king at what it does, so ...</td>\n",
       "      <td>80.0</td>\n",
       "      <td>60.0</td>\n",
       "      <td>57.142857</td>\n",
       "      <td>10.344828</td>\n",
       "    </tr>\n",
       "    <tr>\n",
       "      <th>3</th>\n",
       "      <td>Farming Simulator 15</td>\n",
       "      <td>Simulation, Vehicle Combat</td>\n",
       "      <td>PlayStation 4, Xbox One, PC, Xbox Series X/S, ...</td>\n",
       "      <td>PlayStation LifeStyle</td>\n",
       "      <td>If you know you'd like a farming simulator gam...</td>\n",
       "      <td>70.0</td>\n",
       "      <td>60.0</td>\n",
       "      <td>57.142857</td>\n",
       "      <td>10.344828</td>\n",
       "    </tr>\n",
       "    <tr>\n",
       "      <th>4</th>\n",
       "      <td>Farming Simulator 15</td>\n",
       "      <td>Simulation, Vehicle Combat</td>\n",
       "      <td>PlayStation 4, Xbox One, PC, Xbox Series X/S, ...</td>\n",
       "      <td>Digital Chumps</td>\n",
       "      <td>I'm not convinced that this game does not have...</td>\n",
       "      <td>70.0</td>\n",
       "      <td>60.0</td>\n",
       "      <td>57.142857</td>\n",
       "      <td>10.344828</td>\n",
       "    </tr>\n",
       "  </tbody>\n",
       "</table>\n",
       "</div>"
      ],
      "text/plain": [
       "                   Game                      Genres  \\\n",
       "0  Farming Simulator 15  Simulation, Vehicle Combat   \n",
       "1  Farming Simulator 15  Simulation, Vehicle Combat   \n",
       "2  Farming Simulator 15  Simulation, Vehicle Combat   \n",
       "3  Farming Simulator 15  Simulation, Vehicle Combat   \n",
       "4  Farming Simulator 15  Simulation, Vehicle Combat   \n",
       "\n",
       "                                           Platforms      Reviewer (Outlet)  \\\n",
       "0  PlayStation 4, Xbox One, PC, Xbox Series X/S, ...           Gaming Nexus   \n",
       "1  PlayStation 4, Xbox One, PC, Xbox Series X/S, ...            Game Debate   \n",
       "2  PlayStation 4, Xbox One, PC, Xbox Series X/S, ...                   ZTGD   \n",
       "3  PlayStation 4, Xbox One, PC, Xbox Series X/S, ...  PlayStation LifeStyle   \n",
       "4  PlayStation 4, Xbox One, PC, Xbox Series X/S, ...         Digital Chumps   \n",
       "\n",
       "                                             Snippet  Score  Median Score  \\\n",
       "0  Farming Simulator 15 is a great addition to th...   85.0          60.0   \n",
       "1  I really like Farming Simulator 2015. It's not...   85.0          60.0   \n",
       "2  Farming Simulator is king at what it does, so ...   80.0          60.0   \n",
       "3  If you know you'd like a farming simulator gam...   70.0          60.0   \n",
       "4  I'm not convinced that this game does not have...   70.0          60.0   \n",
       "\n",
       "   Top Critic Score  Percent Recommended  \n",
       "0         57.142857            10.344828  \n",
       "1         57.142857            10.344828  \n",
       "2         57.142857            10.344828  \n",
       "3         57.142857            10.344828  \n",
       "4         57.142857            10.344828  "
      ]
     },
     "execution_count": 10,
     "metadata": {},
     "output_type": "execute_result"
    }
   ],
   "source": [
    "media_df_filtered.head(5)"
   ]
  },
  {
   "cell_type": "markdown",
   "metadata": {},
   "source": [
    "# Remove short or meaningless user review (Media review is more formal that won't happen)"
   ]
  },
  {
   "cell_type": "code",
   "execution_count": 11,
   "metadata": {},
   "outputs": [],
   "source": [
    "user_df_filtered = user_df[user_df[\"Review\"].apply(is_meaningful_review)]"
   ]
  },
  {
   "cell_type": "markdown",
   "metadata": {},
   "source": [
    "# Filtering based on review number"
   ]
  },
  {
   "cell_type": "code",
   "execution_count": 14,
   "metadata": {},
   "outputs": [
    {
     "data": {
      "text/plain": [
       "Game                     726\n",
       "Genres                   158\n",
       "Platforms                243\n",
       "Reviewer (Outlet)        512\n",
       "Snippet                55769\n",
       "Score                     92\n",
       "Median Score              56\n",
       "Top Critic Score         721\n",
       "Percent Recommended      639\n",
       "dtype: int64"
      ]
     },
     "execution_count": 14,
     "metadata": {},
     "output_type": "execute_result"
    }
   ],
   "source": [
    "# Media reviews more than 50\n",
    "n = 50\n",
    "game_counts = media_df_filtered[\"Game\"].value_counts()\n",
    "games_with_n_or_more_reviews = game_counts[game_counts >= n].index\n",
    "media_df_filtered_nplus = media_df_filtered[media_df_filtered[\"Game\"].isin(games_with_n_or_more_reviews)]\n",
    "media_df_filtered_nplus.nunique()"
   ]
  },
  {
   "cell_type": "code",
   "execution_count": 15,
   "metadata": {},
   "outputs": [
    {
     "data": {
      "text/plain": [
       "Game Name       794\n",
       "Review       365533\n",
       "Rating           10\n",
       "dtype: int64"
      ]
     },
     "execution_count": 15,
     "metadata": {},
     "output_type": "execute_result"
    }
   ],
   "source": [
    "# User reviews more than 50\n",
    "n = 100\n",
    "game_counts = user_df_filtered[\"Game Name\"].value_counts()\n",
    "games_with_n_or_more_reviews = game_counts[game_counts >= n].index\n",
    "user_df_filtered_nplus = user_df_filtered[user_df_filtered[\"Game Name\"].isin(games_with_n_or_more_reviews)]\n",
    "user_df_filtered_nplus.nunique()"
   ]
  },
  {
   "cell_type": "code",
   "execution_count": 16,
   "metadata": {},
   "outputs": [
    {
     "name": "stdout",
     "output_type": "stream",
     "text": [
      "Common games:  456\n"
     ]
    }
   ],
   "source": [
    "media_games = media_df_filtered_nplus[\"Game\"].unique()\n",
    "user_games = user_df_filtered_nplus[\"Game Name\"].unique()\n",
    "common_games = set(media_games) & set(user_games)\n",
    "print(\"Common games: \", len(common_games))"
   ]
  },
  {
   "cell_type": "code",
   "execution_count": 17,
   "metadata": {},
   "outputs": [
    {
     "name": "stdout",
     "output_type": "stream",
     "text": [
      "456\n",
      "456\n"
     ]
    }
   ],
   "source": [
    "media_games = media_df_filtered_nplus[\"Game\"].unique()\n",
    "user_games = user_df_filtered_nplus[\"Game Name\"].unique()\n",
    "\n",
    "media_df_filtered_nplus = media_df_filtered_nplus[media_df_filtered_nplus[\"Game\"].isin(common_games)]\n",
    "media_df_filtered_nplus[\"Game\"].nunique()\n",
    "\n",
    "user_df_filtered_nplus = user_df_filtered_nplus[user_df_filtered_nplus[\"Game Name\"].isin(common_games)]\n",
    "user_df_filtered_nplus[\"Game Name\"].nunique()\n",
    "\n",
    "print(media_df_filtered_nplus[\"Game\"].nunique())\n",
    "print(user_df_filtered_nplus[\"Game Name\"].nunique())"
   ]
  },
  {
   "cell_type": "code",
   "execution_count": 18,
   "metadata": {},
   "outputs": [],
   "source": [
    "media_df_filtered_nplus.reset_index(drop=True, inplace=True)\n",
    "user_df_filtered_nplus.reset_index(drop=True, inplace=True)"
   ]
  },
  {
   "cell_type": "code",
   "execution_count": 20,
   "metadata": {},
   "outputs": [
    {
     "name": "stdout",
     "output_type": "stream",
     "text": [
      "(38342, 9)\n",
      "(254399, 3)\n"
     ]
    }
   ],
   "source": [
    "print(media_df_filtered_nplus.shape)\n",
    "print(user_df_filtered_nplus.shape)"
   ]
  },
  {
   "cell_type": "code",
   "execution_count": 19,
   "metadata": {},
   "outputs": [],
   "source": [
    "media_df_filtered_nplus.to_csv(\"./media_df_filtered_nplus.csv\")\n",
    "user_df_filtered_nplus.to_csv(\"./user_df_filtered_nplus.csv\")"
   ]
  }
 ],
 "metadata": {
  "kernelspec": {
   "display_name": "base",
   "language": "python",
   "name": "python3"
  },
  "language_info": {
   "codemirror_mode": {
    "name": "ipython",
    "version": 3
   },
   "file_extension": ".py",
   "mimetype": "text/x-python",
   "name": "python",
   "nbconvert_exporter": "python",
   "pygments_lexer": "ipython3",
   "version": "3.12.3"
  }
 },
 "nbformat": 4,
 "nbformat_minor": 2
}
